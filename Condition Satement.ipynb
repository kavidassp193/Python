{
 "cells": [
  {
   "cell_type": "code",
   "execution_count": null,
   "id": "5b0584f5-6890-42e5-a642-42c46f7f55ee",
   "metadata": {},
   "outputs": [],
   "source": [
    "skill=input(\"enter the skill\")\n",
    "exp=int(input(\"enter how many year of experience\"))\n",
    "native=input(\"enter your native\")\n",
    "\n",
    "if skill==\"Python\":\n",
    "    if exp==1:\n",
    "        if native==\"Chennai\":\n",
    "            print(\"wipro\")\n",
    "elif exp==2:\n",
    "    print(\"tcs\")\n",
    "    \n",
    "if skill==\"Java\":\n",
    "    if exp==1:\n",
    "        if native==\"Cbe\":\n",
    "            print(\"Cts\")\n",
    "elif exp==2:\n",
    "    print(\"Accenture\")\n",
    "\n",
    "if skill==\"Java\":\n",
    "    if exp==1:\n",
    "        if native==\"Chennai\":\n",
    "            print(\"Trios\")\n",
    "elif exp==2:\n",
    "    print(\"Hcl\")\n",
    "else:\n",
    "    print(\"no\")"
   ]
  },
  {
   "cell_type": "code",
   "execution_count": 10,
   "id": "3be0adcb-fe68-4768-916c-054405bc289b",
   "metadata": {},
   "outputs": [
    {
     "name": "stdin",
     "output_type": "stream",
     "text": [
      "enter the skill python\n",
      "Experience 1\n",
      "Enter your native Chennai\n"
     ]
    },
    {
     "name": "stdout",
     "output_type": "stream",
     "text": [
      "Wipro\n"
     ]
    }
   ],
   "source": [
    "Skill=input(\"enter the skill\")\n",
    "exp=int(input(\"Experience\"))\n",
    "native=input(\"Enter your native\")\n",
    "\n",
    "if Skill==\"python\" and exp==1 and native==\"Chennai\":\n",
    "    print(\"Wipro\")\n",
    "elif Skill==\"Python\" and exp==2 and native==\"Chennai\":\n",
    "    print(\"tcs\")\n",
    "elif Skill==\"Java\" and exp==1 and native==\"Coimbatore\":\n",
    "    print(\"cts\")\n",
    "elif Skill==\"Java\" and exp==2 and native==\"Coimbatore\":\n",
    "    print(\"Acc\")\n",
    "elif Skill==\"Java\" and exp==1 and native==\"Chennai\":\n",
    "    print(\"trios\")\n",
    "elif Skill==\"Java\" and exp==2 and native==\"Chennai\":\n",
    "    print(\"hcl\")\n",
    "else:\n",
    "    print(\"Nope\")\n"
   ]
  },
  {
   "cell_type": "code",
   "execution_count": null,
   "id": "b48f35b9-91a5-4b9c-808a-6284f38a1422",
   "metadata": {},
   "outputs": [],
   "source": []
  }
 ],
 "metadata": {
  "kernelspec": {
   "display_name": "Python 3 (ipykernel)",
   "language": "python",
   "name": "python3"
  },
  "language_info": {
   "codemirror_mode": {
    "name": "ipython",
    "version": 3
   },
   "file_extension": ".py",
   "mimetype": "text/x-python",
   "name": "python",
   "nbconvert_exporter": "python",
   "pygments_lexer": "ipython3",
   "version": "3.13.5"
  }
 },
 "nbformat": 4,
 "nbformat_minor": 5
}
